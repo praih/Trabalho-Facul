{
  "nbformat": 4,
  "nbformat_minor": 0,
  "metadata": {
    "colab": {
      "provenance": [],
      "authorship_tag": "ABX9TyME5j8EVQyBPwSTbcMbbFPu",
      "include_colab_link": true
    },
    "kernelspec": {
      "name": "python3",
      "display_name": "Python 3"
    },
    "language_info": {
      "name": "python"
    }
  },
  "cells": [
    {
      "cell_type": "markdown",
      "metadata": {
        "id": "view-in-github",
        "colab_type": "text"
      },
      "source": [
        "<a href=\"https://colab.research.google.com/github/praih/Trabalho-Facul/blob/main/TrabalhoPyFacul.ipynb\" target=\"_parent\"><img src=\"https://colab.research.google.com/assets/colab-badge.svg\" alt=\"Open In Colab\"/></a>"
      ]
    },
    {
      "cell_type": "code",
      "execution_count": 2,
      "metadata": {
        "colab": {
          "base_uri": "https://localhost:8080/",
          "height": 495
        },
        "id": "18BfPevnYWZ_",
        "outputId": "d02acd4b-8ae2-43ac-9c61-b3e3a74fd8dc"
      },
      "outputs": [
        {
          "output_type": "stream",
          "name": "stdout",
          "text": [
            "\n",
            "Opções:\n",
            "1. Cadastrar novo aluno\n",
            "2. Mostrar todos os alunos cadastrados\n",
            "3. Buscar aluno por nome\n",
            "4. Editar informações de um aluno\n",
            "5. Remover aluno\n",
            "6. Sair\n"
          ]
        },
        {
          "output_type": "error",
          "ename": "KeyboardInterrupt",
          "evalue": "Interrupted by user",
          "traceback": [
            "\u001b[0;31m---------------------------------------------------------------------------\u001b[0m",
            "\u001b[0;31mKeyboardInterrupt\u001b[0m                         Traceback (most recent call last)",
            "\u001b[0;32m<ipython-input-2-528090e08b05>\u001b[0m in \u001b[0;36m<cell line: 53>\u001b[0;34m()\u001b[0m\n\u001b[1;32m     60\u001b[0m     \u001b[0mprint\u001b[0m\u001b[0;34m(\u001b[0m\u001b[0;34m\"6. Sair\"\u001b[0m\u001b[0;34m)\u001b[0m\u001b[0;34m\u001b[0m\u001b[0;34m\u001b[0m\u001b[0m\n\u001b[1;32m     61\u001b[0m \u001b[0;34m\u001b[0m\u001b[0m\n\u001b[0;32m---> 62\u001b[0;31m     \u001b[0mopcao\u001b[0m \u001b[0;34m=\u001b[0m \u001b[0minput\u001b[0m\u001b[0;34m(\u001b[0m\u001b[0;34m\"Escolha uma opção: \"\u001b[0m\u001b[0;34m)\u001b[0m\u001b[0;34m\u001b[0m\u001b[0;34m\u001b[0m\u001b[0m\n\u001b[0m\u001b[1;32m     63\u001b[0m \u001b[0;34m\u001b[0m\u001b[0m\n\u001b[1;32m     64\u001b[0m     \u001b[0;32mif\u001b[0m \u001b[0mopcao\u001b[0m \u001b[0;34m==\u001b[0m \u001b[0;34m'1'\u001b[0m\u001b[0;34m:\u001b[0m\u001b[0;34m\u001b[0m\u001b[0;34m\u001b[0m\u001b[0m\n",
            "\u001b[0;32m/usr/local/lib/python3.10/dist-packages/ipykernel/kernelbase.py\u001b[0m in \u001b[0;36mraw_input\u001b[0;34m(self, prompt)\u001b[0m\n\u001b[1;32m    849\u001b[0m                 \u001b[0;34m\"raw_input was called, but this frontend does not support input requests.\"\u001b[0m\u001b[0;34m\u001b[0m\u001b[0;34m\u001b[0m\u001b[0m\n\u001b[1;32m    850\u001b[0m             )\n\u001b[0;32m--> 851\u001b[0;31m         return self._input_request(str(prompt),\n\u001b[0m\u001b[1;32m    852\u001b[0m             \u001b[0mself\u001b[0m\u001b[0;34m.\u001b[0m\u001b[0m_parent_ident\u001b[0m\u001b[0;34m,\u001b[0m\u001b[0;34m\u001b[0m\u001b[0;34m\u001b[0m\u001b[0m\n\u001b[1;32m    853\u001b[0m             \u001b[0mself\u001b[0m\u001b[0;34m.\u001b[0m\u001b[0m_parent_header\u001b[0m\u001b[0;34m,\u001b[0m\u001b[0;34m\u001b[0m\u001b[0;34m\u001b[0m\u001b[0m\n",
            "\u001b[0;32m/usr/local/lib/python3.10/dist-packages/ipykernel/kernelbase.py\u001b[0m in \u001b[0;36m_input_request\u001b[0;34m(self, prompt, ident, parent, password)\u001b[0m\n\u001b[1;32m    893\u001b[0m             \u001b[0;32mexcept\u001b[0m \u001b[0mKeyboardInterrupt\u001b[0m\u001b[0;34m:\u001b[0m\u001b[0;34m\u001b[0m\u001b[0;34m\u001b[0m\u001b[0m\n\u001b[1;32m    894\u001b[0m                 \u001b[0;31m# re-raise KeyboardInterrupt, to truncate traceback\u001b[0m\u001b[0;34m\u001b[0m\u001b[0;34m\u001b[0m\u001b[0m\n\u001b[0;32m--> 895\u001b[0;31m                 \u001b[0;32mraise\u001b[0m \u001b[0mKeyboardInterrupt\u001b[0m\u001b[0;34m(\u001b[0m\u001b[0;34m\"Interrupted by user\"\u001b[0m\u001b[0;34m)\u001b[0m \u001b[0;32mfrom\u001b[0m \u001b[0;32mNone\u001b[0m\u001b[0;34m\u001b[0m\u001b[0;34m\u001b[0m\u001b[0m\n\u001b[0m\u001b[1;32m    896\u001b[0m             \u001b[0;32mexcept\u001b[0m \u001b[0mException\u001b[0m \u001b[0;32mas\u001b[0m \u001b[0me\u001b[0m\u001b[0;34m:\u001b[0m\u001b[0;34m\u001b[0m\u001b[0;34m\u001b[0m\u001b[0m\n\u001b[1;32m    897\u001b[0m                 \u001b[0mself\u001b[0m\u001b[0;34m.\u001b[0m\u001b[0mlog\u001b[0m\u001b[0;34m.\u001b[0m\u001b[0mwarning\u001b[0m\u001b[0;34m(\u001b[0m\u001b[0;34m\"Invalid Message:\"\u001b[0m\u001b[0;34m,\u001b[0m \u001b[0mexc_info\u001b[0m\u001b[0;34m=\u001b[0m\u001b[0;32mTrue\u001b[0m\u001b[0;34m)\u001b[0m\u001b[0;34m\u001b[0m\u001b[0;34m\u001b[0m\u001b[0m\n",
            "\u001b[0;31mKeyboardInterrupt\u001b[0m: Interrupted by user"
          ]
        }
      ],
      "source": [
        "# função para cadastrar um novo aluno\n",
        "def cadastrar_aluno():\n",
        "    nome = input(\"Digite o nome do aluno: \")\n",
        "    idade = int(input(\"Digite a idade do aluno: \"))\n",
        "    turma = input(\"Digite a turma do aluno: \")\n",
        "    return {'nome': nome, 'idade': idade, 'turma': turma}\n",
        "\n",
        "# função para exibir informações de um aluno específico\n",
        "def exibir_aluno(aluno):\n",
        "    print(f\"Nome: {aluno['nome']}, Idade: {aluno['idade']}, Turma: {aluno['turma']}\")\n",
        "\n",
        "# função para buscar um aluno pelo nome\n",
        "def buscar_aluno_por_nome(nome, lista_alunos):\n",
        "    for aluno in lista_alunos:\n",
        "        if aluno['nome'].lower() == nome.lower():\n",
        "            return aluno\n",
        "    return None\n",
        "\n",
        "# função para editar as informações de um aluno\n",
        "def editar_aluno(aluno):\n",
        "    print(\"Editar informações do aluno:\")\n",
        "    novo_nome = input(\"Novo nome (Deixe em branco para manter o mesmo): \")\n",
        "    if novo_nome:\n",
        "        aluno['nome'] = novo_nome\n",
        "\n",
        "    nova_idade = input(\"Nova idade (Deixe em branco para manter a mesma): \")\n",
        "    if nova_idade:\n",
        "        aluno['idade'] = int(nova_idade)\n",
        "\n",
        "    nova_turma = input(\"Nova turma (Deixe em branco para manter a mesma): \")\n",
        "    if nova_turma:\n",
        "        aluno['turma'] = nova_turma\n",
        "\n",
        "# função para remover um aluno da lista\n",
        "def remover_aluno(nome, lista_alunos):\n",
        "    for aluno in lista_alunos:\n",
        "        if aluno['nome'].lower() == nome.lower():\n",
        "            lista_alunos.remove(aluno)\n",
        "            print(f\"Aluno '{nome}' removido com sucesso.\")\n",
        "            return\n",
        "    print(f\"Aluno '{nome}' não encontrado.\")\n",
        "\n",
        "# função para mostrar todos os alunos cadastrados\n",
        "def mostrar_alunos(lista_alunos):\n",
        "    print(\"\\nAlunos Cadastrados:\")\n",
        "    for aluno in lista_alunos:\n",
        "        exibir_aluno(aluno)\n",
        "\n",
        "# lista para armazenar os alunos cadastrados\n",
        "alunos = []\n",
        "\n",
        "# loop para o usuário interagir com o sistema\n",
        "while True:\n",
        "    print(\"\\nOpções:\")\n",
        "    print(\"1. Cadastrar novo aluno\")\n",
        "    print(\"2. Mostrar todos os alunos cadastrados\")\n",
        "    print(\"3. Buscar aluno por nome\")\n",
        "    print(\"4. Editar informações de um aluno\")\n",
        "    print(\"5. Remover aluno\")\n",
        "    print(\"6. Sair\")\n",
        "\n",
        "    opcao = input(\"Escolha uma opção: \")\n",
        "\n",
        "    if opcao == '1':\n",
        "        aluno = cadastrar_aluno()\n",
        "        alunos.append(aluno)\n",
        "        print(\"Aluno cadastrado com sucesso!\")\n",
        "    elif opcao == '2':\n",
        "        mostrar_alunos(alunos)\n",
        "    elif opcao == '3':\n",
        "        nome_aluno = input(\"Digite o nome do aluno que deseja buscar: \")\n",
        "        aluno_encontrado = buscar_aluno_por_nome(nome_aluno, alunos)\n",
        "        if aluno_encontrado:\n",
        "            print(\"Aluno encontrado:\")\n",
        "            exibir_aluno(aluno_encontrado)\n",
        "        else:\n",
        "            print(\"Aluno não encontrado.\")\n",
        "    elif opcao == '4':\n",
        "        nome_aluno = input(\"Digite o nome do aluno que deseja editar: \")\n",
        "        aluno_encontrado = buscar_aluno_por_nome(nome_aluno, alunos)\n",
        "        if aluno_encontrado:\n",
        "            editar_aluno(aluno_encontrado)\n",
        "            print(\"Informações do aluno atualizadas com sucesso!\")\n",
        "        else:\n",
        "            print(\"Aluno não encontrado.\")\n",
        "    elif opcao == '5':\n",
        "        nome_aluno = input(\"Digite o nome do aluno que deseja remover: \")\n",
        "        remover_aluno(nome_aluno, alunos)\n",
        "    elif opcao == '6':\n",
        "        print(\"Saindo do programa...\")\n",
        "        break\n",
        "    else:\n",
        "        print(\"Opção inválida. Por favor, escolha uma opção válida.\")\n"
      ]
    }
  ]
}