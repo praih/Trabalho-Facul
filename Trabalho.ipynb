{
  "nbformat": 4,
  "nbformat_minor": 0,
  "metadata": {
    "colab": {
      "provenance": []
    },
    "kernelspec": {
      "name": "python3",
      "display_name": "Python 3"
    },
    "language_info": {
      "name": "python"
    }
  },
  "cells": [
    {
      "cell_type": "code",
      "execution_count": null,
      "metadata": {
        "colab": {
          "base_uri": "https://localhost:8080/"
        },
        "id": "haY1HTvWW-LH",
        "outputId": "b3b29eab-e307-476e-a9b4-527ca0c0bfc4"
      },
      "outputs": [
        {
          "output_type": "stream",
          "name": "stdout",
          "text": [
            "\n",
            "Cadastro de Aluno:\n",
            "Digite o nome do aluno: João\n",
            "Digite a idade do aluno: 18\n",
            "Digite a turma do aluno: 1 Semestre\n",
            "Deseja cadastrar outro aluno? (s/n): n\n",
            "\n",
            "Alunos Cadastrados:\n",
            "Nome: João, Idade: 18, Turma: 1 Semestre\n"
          ]
        }
      ],
      "source": [
        "# função para cadastrar um novo aluno\n",
        "def cadastrar_aluno():\n",
        "    nome = input(\"Digite o nome do aluno: \")\n",
        "    idade = int(input(\"Digite a idade do aluno: \"))\n",
        "    turma = input(\"Digite a turma do aluno: \")\n",
        "    return {'nome': nome, 'idade': idade, 'turma': turma}\n",
        "\n",
        "# lista para armazenar os alunos cadastrados\n",
        "alunos = []\n",
        "\n",
        "# loop para o usuário cadastrar novos alunos\n",
        "continuar = True\n",
        "while continuar:\n",
        "    print(\"\\nCadastro de Aluno:\")\n",
        "    aluno = cadastrar_aluno()\n",
        "    alunos.append(aluno)\n",
        "\n",
        "    resposta = input(\"Deseja cadastrar outro aluno? (s/n): \")\n",
        "    if resposta.lower() != 's':\n",
        "        continuar = False\n",
        "\n",
        "# mostrar todos os alunos cadastrados\n",
        "print(\"\\nAlunos Cadastrados:\")\n",
        "for aluno in alunos:\n",
        "    print(f\"Nome: {aluno['nome']}, Idade: {aluno['idade']}, Turma: {aluno['turma']}\")\n"
      ]
    }
  ]
}